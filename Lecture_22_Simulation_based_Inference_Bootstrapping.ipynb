{
  "nbformat": 4,
  "nbformat_minor": 0,
  "metadata": {
    "colab": {
      "provenance": [],
      "include_colab_link": true
    },
    "kernelspec": {
      "name": "ir",
      "display_name": "R"
    }
  },
  "cells": [
    {
      "cell_type": "markdown",
      "metadata": {
        "id": "view-in-github",
        "colab_type": "text"
      },
      "source": [
        "<a href=\"https://colab.research.google.com/github/jsnyder82/jsnyder82/blob/main/Lecture_22_Simulation_based_Inference_Bootstrapping.ipynb\" target=\"_parent\"><img src=\"https://colab.research.google.com/assets/colab-badge.svg\" alt=\"Open In Colab\"/></a>"
      ]
    },
    {
      "cell_type": "markdown",
      "metadata": {
        "id": "gtETsh5j8vHw"
      },
      "source": [
        "# **Lecture 22 - Simulation-based Inference - Bootstrapping**\n",
        "\n",
        "---\n",
        "\n",
        "<br>"
      ]
    },
    {
      "cell_type": "markdown",
      "source": [
        "### Packages"
      ],
      "metadata": {
        "id": "QdyJzDgAsFNZ"
      }
    },
    {
      "cell_type": "code",
      "source": [
        "# none"
      ],
      "metadata": {
        "id": "cA36kxW2pZMi"
      },
      "execution_count": null,
      "outputs": []
    },
    {
      "cell_type": "markdown",
      "source": [
        "<br>\n",
        "\n",
        "<br>"
      ],
      "metadata": {
        "id": "Ua2L2PWuLR2k"
      }
    },
    {
      "cell_type": "markdown",
      "source": [
        "---\n",
        "\n",
        "<br>"
      ],
      "metadata": {
        "id": "4lonzEGaLR2l"
      }
    },
    {
      "cell_type": "markdown",
      "metadata": {
        "id": "1thwzf4wLR2l"
      },
      "source": [
        "### Introduction"
      ]
    },
    {
      "cell_type": "markdown",
      "source": [
        "* Thus far, in this class, we have learned to\n",
        "\n",
        "  * Import our data into an application or coding environment\n",
        "    * `.csv`, `.json`, web scraping, etc.\n",
        "\n",
        "  * Clean/wrangle/organize our data for analysis\n",
        "    * Subsetting, writing functions, merging data, extracting data from text, etc.\n",
        "\n",
        "  * Summarize our data using basic descriptive statistics\n",
        "    * Central tendency and variability\n",
        "\n",
        "  * Visualize our data to understand distributions and relationships\n",
        "    * Scatterplots, `ggplot2`, etc."
      ],
      "metadata": {
        "id": "l86TavacLR2l"
      }
    },
    {
      "cell_type": "markdown",
      "source": [
        "<br>"
      ],
      "metadata": {
        "id": "mRaKHW2wLVrp"
      }
    },
    {
      "cell_type": "markdown",
      "source": [
        "* ***Congratulations!***\n",
        "\n",
        "* We can use what we have learned to perform a basic analysis of a dataset!"
      ],
      "metadata": {
        "id": "g_3xwE6VMpC4"
      }
    },
    {
      "cell_type": "markdown",
      "source": [
        "<br>"
      ],
      "metadata": {
        "id": "Q_MiNnMqMpk4"
      }
    },
    {
      "cell_type": "markdown",
      "source": [
        "* However, note that our descriptive statistics often only characterize a sample of data taken from a larger population\n",
        "\n",
        "* To understand (i.e. infer) characteristics of an entire population from a sample, we require a new concept\n",
        "\n",
        "  * ***Statistical inference*** - Inferring quantities about a population using a sample from the population while accounting for \"sampling variability\""
      ],
      "metadata": {
        "id": "cUaR0VlxLW4i"
      }
    },
    {
      "cell_type": "markdown",
      "source": [
        "<br>"
      ],
      "metadata": {
        "id": "4ut02q6qP23v"
      }
    },
    {
      "cell_type": "markdown",
      "source": [
        "* Let's first explore this concept of ***sampling variability***"
      ],
      "metadata": {
        "id": "fZpJlTL4P3pw"
      }
    },
    {
      "cell_type": "markdown",
      "source": [
        "<br>\n",
        "\n",
        "<br>"
      ],
      "metadata": {
        "id": "dqE6qgozG0mT"
      }
    },
    {
      "cell_type": "markdown",
      "source": [
        "---\n",
        "\n",
        "<br>"
      ],
      "metadata": {
        "id": "jFiNcIjpjFs7"
      }
    },
    {
      "cell_type": "markdown",
      "metadata": {
        "id": "HYCVKVnsu-JB"
      },
      "source": [
        "### Sampling Variability"
      ]
    },
    {
      "cell_type": "markdown",
      "metadata": {
        "id": "Am_oL_2OujkL"
      },
      "source": [
        "#### Need for Sampling"
      ]
    },
    {
      "cell_type": "markdown",
      "source": [
        "* In practice, data scientists and statisticians are interested in characteristics of a population - this is most often the ***mean***!\n",
        "\n",
        "  * Average calorie consumption among ALL first-time undergraduate students\n",
        "\n",
        "  * Average amount of emphysema among ALL long-time smokers\n",
        "  \n",
        "  * Average test scores among ALL students underrepresented in STEM fields"
      ],
      "metadata": {
        "id": "Czw9BketLNJW"
      }
    },
    {
      "cell_type": "markdown",
      "source": [
        "<br>"
      ],
      "metadata": {
        "id": "_-dPCpvYRyE4"
      }
    },
    {
      "cell_type": "markdown",
      "source": [
        "* However, we are often unable to collect data on the entire population\n",
        "\n",
        "  * Can we collect dietary data on ALL undergraduate students in the entire country?\n",
        "\n",
        "  * Can we do a CT scan on ALL long-time smokers in the world?\n",
        "  \n",
        "  * Can we provide the same test to ALL students in the country?"
      ],
      "metadata": {
        "id": "nNNAqIqoRu3j"
      }
    },
    {
      "cell_type": "markdown",
      "metadata": {
        "id": "3Qyc8lhtuDvD"
      },
      "source": [
        "<br>"
      ]
    },
    {
      "cell_type": "markdown",
      "metadata": {
        "id": "mYGhKdvzuEqo"
      },
      "source": [
        "* So what do we do?"
      ]
    },
    {
      "cell_type": "markdown",
      "metadata": {
        "id": "FOBEaBjXuwcs"
      },
      "source": [
        "<br>"
      ]
    },
    {
      "cell_type": "markdown",
      "metadata": {
        "id": "Y-aKEYbHuyDh"
      },
      "source": [
        "* We can randomly sample a subset of the population\n",
        "\n",
        "* Use the mean of the sample to estimate the mean of the population"
      ]
    },
    {
      "cell_type": "markdown",
      "metadata": {
        "id": "o2eYE3TWudm6"
      },
      "source": [
        "<img src=\"https://s3-eu-west-1.amazonaws.com/blog.omniconvert.com-media/blog/wp-content/uploads/2019/10/21150245/sample-size-definition.png\" width=\"500\" >"
      ]
    },
    {
      "cell_type": "markdown",
      "source": [
        "![image.png](data:image/png;base64,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)"
      ],
      "metadata": {
        "id": "4S2Cv3YHNpsa"
      }
    },
    {
      "cell_type": "markdown",
      "source": [
        "<br>\n"
      ],
      "metadata": {
        "id": "HQPEp82Pu6s2"
      }
    },
    {
      "cell_type": "markdown",
      "metadata": {
        "id": "YAsHoDBGv-7X"
      },
      "source": [
        "\n",
        "---\n",
        "\n",
        "\n"
      ]
    },
    {
      "cell_type": "markdown",
      "metadata": {
        "id": "QOFQ78S7T_Zg"
      },
      "source": [
        "#### Scenario"
      ]
    },
    {
      "cell_type": "markdown",
      "metadata": {
        "id": "wUiDAETu3HU-"
      },
      "source": [
        "* Imagine you are a researcher in education proposing a new placement test for college students\n",
        "\n",
        "* You would like to estimate the average math score for this test\n",
        "\n",
        "<br>\n",
        "\n",
        "* Can we offer this test to ALL students?\n",
        "  * What if it is a bad test? If we provide the test to everyone, a lot of money is wasted\n",
        "  * Some students may opt out of taking the test\n",
        "  * Offering to prospective test to ALL students may not be feasible\n",
        "\n",
        "<br>\n",
        "\n",
        "* What can we do?\n",
        "\n",
        "<br>\n",
        "\n",
        "  * We can randomly sample college students from the population\n",
        "  * Use the average math score in the sample to estimate the average math score in the population\n",
        "\n"
      ]
    },
    {
      "cell_type": "markdown",
      "source": [
        "<br>"
      ],
      "metadata": {
        "id": "UqjDcQZuUgIE"
      }
    },
    {
      "cell_type": "markdown",
      "metadata": {
        "id": "hKpsvjaatMjF"
      },
      "source": [
        "\n",
        "\n",
        "---\n",
        "\n",
        "\n"
      ]
    },
    {
      "cell_type": "markdown",
      "metadata": {
        "id": "cvN47AvYvy_o"
      },
      "source": [
        "#### Example Population"
      ]
    },
    {
      "cell_type": "markdown",
      "metadata": {
        "id": "mXOVpQ6ytOwD"
      },
      "source": [
        "* For illustration, we will assume we know the\n",
        "  * **true** population mean math score\n",
        "    * $\\mu = 66.09$\n",
        "  * **true** population standard deviation of math scores\n",
        "    * $\\sigma = 15.16$\n",
        "\n",
        "<br>\n",
        "\n",
        "* $\\mu$ or mu is pronounced 'myu'\n",
        "* $\\sigma$ is pronounced 'sigma'"
      ]
    },
    {
      "cell_type": "markdown",
      "source": [
        "<br>"
      ],
      "metadata": {
        "id": "DY8WxD9NU_90"
      }
    },
    {
      "cell_type": "markdown",
      "source": [
        "* Load our population data (we usually don't have this!)"
      ],
      "metadata": {
        "id": "kj8VonPQVAig"
      }
    },
    {
      "cell_type": "code",
      "metadata": {
        "id": "dhQcYnktv4G3",
        "colab": {
          "base_uri": "https://localhost:8080/"
        },
        "outputId": "950a98e5-06ed-4a52-a099-e64b0e944f42"
      },
      "source": [
        "# The entire population\n",
        "population <- read.csv(\"https://raw.githubusercontent.com/khasenst/datasets_teaching/main/StudentsPerformance.csv\")[, c(\"math.score\")]\n",
        "population <- data.frame(math.score = population)\n",
        "\n",
        "# show first few lines\n",
        "head(population)"
      ],
      "execution_count": null,
      "outputs": [
        {
          "output_type": "display_data",
          "data": {
            "text/html": [
              "<table class=\"dataframe\">\n",
              "<caption>A data.frame: 6 × 1</caption>\n",
              "<thead>\n",
              "\t<tr><th></th><th scope=col>math.score</th></tr>\n",
              "\t<tr><th></th><th scope=col>&lt;int&gt;</th></tr>\n",
              "</thead>\n",
              "<tbody>\n",
              "\t<tr><th scope=row>1</th><td>72</td></tr>\n",
              "\t<tr><th scope=row>2</th><td>69</td></tr>\n",
              "\t<tr><th scope=row>3</th><td>90</td></tr>\n",
              "\t<tr><th scope=row>4</th><td>47</td></tr>\n",
              "\t<tr><th scope=row>5</th><td>76</td></tr>\n",
              "\t<tr><th scope=row>6</th><td>71</td></tr>\n",
              "</tbody>\n",
              "</table>\n"
            ],
            "text/markdown": "\nA data.frame: 6 × 1\n\n| <!--/--> | math.score &lt;int&gt; |\n|---|---|\n| 1 | 72 |\n| 2 | 69 |\n| 3 | 90 |\n| 4 | 47 |\n| 5 | 76 |\n| 6 | 71 |\n\n",
            "text/latex": "A data.frame: 6 × 1\n\\begin{tabular}{r|l}\n  & math.score\\\\\n  & <int>\\\\\n\\hline\n\t1 & 72\\\\\n\t2 & 69\\\\\n\t3 & 90\\\\\n\t4 & 47\\\\\n\t5 & 76\\\\\n\t6 & 71\\\\\n\\end{tabular}\n",
            "text/plain": [
              "  math.score\n",
              "1 72        \n",
              "2 69        \n",
              "3 90        \n",
              "4 47        \n",
              "5 76        \n",
              "6 71        "
            ]
          },
          "metadata": {}
        }
      ]
    },
    {
      "cell_type": "markdown",
      "source": [
        "<br>"
      ],
      "metadata": {
        "id": "bKfcRUU_VLB2"
      }
    },
    {
      "cell_type": "markdown",
      "source": [
        "* Population size (typically unknown)"
      ],
      "metadata": {
        "id": "48b5XiinVMbM"
      }
    },
    {
      "cell_type": "code",
      "source": [
        "# population size\n",
        "N <- nrow(population)\n",
        "N"
      ],
      "metadata": {
        "id": "olXNPHNxS3iZ",
        "colab": {
          "base_uri": "https://localhost:8080/",
          "height": 34
        },
        "outputId": "a7bc66ab-2dd1-4887-c12e-7343727bb843"
      },
      "execution_count": null,
      "outputs": [
        {
          "output_type": "display_data",
          "data": {
            "text/html": [
              "1000"
            ],
            "text/markdown": "1000",
            "text/latex": "1000",
            "text/plain": [
              "[1] 1000"
            ]
          },
          "metadata": {}
        }
      ]
    },
    {
      "cell_type": "markdown",
      "source": [
        "<br>"
      ],
      "metadata": {
        "id": "zrR0aD71VO9O"
      }
    },
    {
      "cell_type": "markdown",
      "source": [
        "* Population mean (typically unknown)"
      ],
      "metadata": {
        "id": "zPSEmELQVP4U"
      }
    },
    {
      "cell_type": "code",
      "source": [
        "# population mean\n",
        "mu <- mean(population$math.score)\n",
        "mu"
      ],
      "metadata": {
        "id": "ICS1fDZlTH3M",
        "colab": {
          "base_uri": "https://localhost:8080/"
        },
        "outputId": "ba246eaa-bf6c-4349-bf2c-7daf35ed2b6d"
      },
      "execution_count": null,
      "outputs": [
        {
          "output_type": "display_data",
          "data": {
            "text/html": [
              "66.089"
            ],
            "text/markdown": "66.089",
            "text/latex": "66.089",
            "text/plain": [
              "[1] 66.089"
            ]
          },
          "metadata": {}
        }
      ]
    },
    {
      "cell_type": "markdown",
      "source": [
        "<br>"
      ],
      "metadata": {
        "id": "kZID6jPGVSUM"
      }
    },
    {
      "cell_type": "markdown",
      "source": [
        "* Population standard deviation (typically unknown)"
      ],
      "metadata": {
        "id": "vBrtLWCIVTXh"
      }
    },
    {
      "cell_type": "code",
      "source": [
        "# population standard deviation\n",
        "stdev <- sd(population$math.score)\n",
        "stdev"
      ],
      "metadata": {
        "id": "RsQqsPO6U5HH",
        "colab": {
          "base_uri": "https://localhost:8080/"
        },
        "outputId": "bc40e569-47f7-4a0d-d8ce-253328e40179"
      },
      "execution_count": null,
      "outputs": [
        {
          "output_type": "display_data",
          "data": {
            "text/html": [
              "15.1630800960095"
            ],
            "text/markdown": "15.1630800960095",
            "text/latex": "15.1630800960095",
            "text/plain": [
              "[1] 15.16308"
            ]
          },
          "metadata": {}
        }
      ]
    },
    {
      "cell_type": "markdown",
      "source": [
        "<br>"
      ],
      "metadata": {
        "id": "YNl-N3yXViUx"
      }
    },
    {
      "cell_type": "markdown",
      "source": [
        "* Population distribution (typically unknown)"
      ],
      "metadata": {
        "id": "jbEZ6WqMVksv"
      }
    },
    {
      "cell_type": "code",
      "source": [
        "hist(population$math.score, breaks = 30,\n",
        "     main = \"Histogram of Math Scores\",\n",
        "     xlab = \"Math Score\")"
      ],
      "metadata": {
        "id": "f99AryEPTaVx",
        "colab": {
          "base_uri": "https://localhost:8080/",
          "height": 437
        },
        "outputId": "ad94d8f3-c46a-4c29-a46d-ec39ac79ae63"
      },
      "execution_count": null,
      "outputs": [
        {
          "output_type": "display_data",
          "data": {
            "text/plain": [
              "Plot with title “Histogram of Math Scores”"
            ],
            "image/png": "[encoded data removed]"
          },
          "metadata": {
            "image/png": {
              "width": 420,
              "height": 420
            }
          }
        }
      ]
    },
    {
      "cell_type": "markdown",
      "source": [
        "<br>"
      ],
      "metadata": {
        "id": "qp45nl9aVgut"
      }
    },
    {
      "cell_type": "markdown",
      "metadata": {
        "id": "yO3ytpz4vjhS"
      },
      "source": [
        "\n",
        "\n",
        "---\n",
        "\n",
        "\n"
      ]
    },
    {
      "cell_type": "markdown",
      "metadata": {
        "id": "5XS30_LlvorI"
      },
      "source": [
        "#### Taking Our Sample"
      ]
    },
    {
      "cell_type": "markdown",
      "metadata": {
        "id": "EYNtGziWvqxi"
      },
      "source": [
        "* Let's simulate taking a random sample of 50 students from our population\n",
        "\n",
        "* We can do this using the `sample()` function\n",
        "\n",
        "* The script below takes a random sample of `size = 50` from the numeric vector `population$math.score` without replacement\n",
        "\n",
        "* \"Without replacement\" (`replace = FALSE`) means we cannot sample the same individual more than once"
      ]
    },
    {
      "cell_type": "code",
      "metadata": {
        "id": "xhV-aPOHtOLT",
        "colab": {
          "base_uri": "https://localhost:8080/"
        },
        "outputId": "2bce5343-7472-4a5d-9714-3cf791d3605a"
      },
      "source": [
        "set.seed(85862)  # ignore\n",
        "\n",
        "math_sample <- sample(population$math.score, size = 50, replace = FALSE)\n",
        "math_sample"
      ],
      "execution_count": null,
      "outputs": [
        {
          "output_type": "display_data",
          "data": {
            "text/html": [
              "<style>\n",
              ".list-inline {list-style: none; margin:0; padding: 0}\n",
              ".list-inline>li {display: inline-block}\n",
              ".list-inline>li:not(:last-child)::after {content: \"\\00b7\"; padding: 0 .5ex}\n",
              "</style>\n",
              "<ol class=list-inline><li>53</li><li>61</li><li>35</li><li>69</li><li>51</li><li>60</li><li>36</li><li>53</li><li>35</li><li>42</li><li>62</li><li>65</li><li>35</li><li>70</li><li>57</li><li>58</li><li>69</li><li>78</li><li>48</li><li>47</li><li>77</li><li>38</li><li>35</li><li>40</li><li>47</li><li>91</li><li>79</li><li>47</li><li>24</li><li>46</li><li>67</li><li>65</li><li>58</li><li>50</li><li>69</li><li>59</li><li>65</li><li>58</li><li>65</li><li>68</li><li>49</li><li>61</li><li>53</li><li>59</li><li>46</li><li>43</li><li>58</li><li>46</li><li>87</li><li>69</li></ol>\n"
            ],
            "text/markdown": "1. 53\n2. 61\n3. 35\n4. 69\n5. 51\n6. 60\n7. 36\n8. 53\n9. 35\n10. 42\n11. 62\n12. 65\n13. 35\n14. 70\n15. 57\n16. 58\n17. 69\n18. 78\n19. 48\n20. 47\n21. 77\n22. 38\n23. 35\n24. 40\n25. 47\n26. 91\n27. 79\n28. 47\n29. 24\n30. 46\n31. 67\n32. 65\n33. 58\n34. 50\n35. 69\n36. 59\n37. 65\n38. 58\n39. 65\n40. 68\n41. 49\n42. 61\n43. 53\n44. 59\n45. 46\n46. 43\n47. 58\n48. 46\n49. 87\n50. 69\n\n\n",
            "text/latex": "\\begin{enumerate*}\n\\item 53\n\\item 61\n\\item 35\n\\item 69\n\\item 51\n\\item 60\n\\item 36\n\\item 53\n\\item 35\n\\item 42\n\\item 62\n\\item 65\n\\item 35\n\\item 70\n\\item 57\n\\item 58\n\\item 69\n\\item 78\n\\item 48\n\\item 47\n\\item 77\n\\item 38\n\\item 35\n\\item 40\n\\item 47\n\\item 91\n\\item 79\n\\item 47\n\\item 24\n\\item 46\n\\item 67\n\\item 65\n\\item 58\n\\item 50\n\\item 69\n\\item 59\n\\item 65\n\\item 58\n\\item 65\n\\item 68\n\\item 49\n\\item 61\n\\item 53\n\\item 59\n\\item 46\n\\item 43\n\\item 58\n\\item 46\n\\item 87\n\\item 69\n\\end{enumerate*}\n",
            "text/plain": [
              " [1] 53 61 35 69 51 60 36 53 35 42 62 65 35 70 57 58 69 78 48 47 77 38 35 40 47\n",
              "[26] 91 79 47 24 46 67 65 58 50 69 59 65 58 65 68 49 61 53 59 46 43 58 46 87 69"
            ]
          },
          "metadata": {}
        }
      ]
    },
    {
      "cell_type": "markdown",
      "source": [
        "<br>"
      ],
      "metadata": {
        "id": "druvdvqi33MJ"
      }
    },
    {
      "cell_type": "markdown",
      "source": [
        "* Calculate our sample mean, which estimates our true (unknown) population mean"
      ],
      "metadata": {
        "id": "Slw8o4Cl39gG"
      }
    },
    {
      "cell_type": "code",
      "metadata": {
        "id": "QDBfxAZUHhs9",
        "colab": {
          "base_uri": "https://localhost:8080/"
        },
        "outputId": "fd5d19e6-02ba-4315-930b-5d36bade5211"
      },
      "source": [
        "# calculate sample mean (xbar)\n",
        "xbar <- mean(math_sample)\n",
        "xbar"
      ],
      "execution_count": null,
      "outputs": [
        {
          "output_type": "display_data",
          "data": {
            "text/html": [
              "56.06"
            ],
            "text/markdown": "56.06",
            "text/latex": "56.06",
            "text/plain": [
              "[1] 56.06"
            ]
          },
          "metadata": {}
        }
      ]
    },
    {
      "cell_type": "markdown",
      "metadata": {
        "id": "oj0ZA7PHwOEA"
      },
      "source": [
        "* The sample mean is denoted by $\\bar{X}$, pronounced (x-bar)\n",
        "\n",
        "* Is this average ($\\bar{X}$) close to the true population mean ($\\mu = 66.09$)?\n",
        "\n",
        "* This sample could be misleading...\n"
      ]
    },
    {
      "cell_type": "markdown",
      "metadata": {
        "id": "OrKQucwVwWgg"
      },
      "source": [
        "<br>"
      ]
    },
    {
      "cell_type": "markdown",
      "metadata": {
        "id": "PabDrFVWwdN_"
      },
      "source": [
        "* Let's try taking another random sample of 50 students from our population"
      ]
    },
    {
      "cell_type": "code",
      "metadata": {
        "id": "Aj3ePpJhriqS",
        "colab": {
          "base_uri": "https://localhost:8080/",
          "height": 34
        },
        "outputId": "013d1b2f-0eff-41de-fddb-b533ce9aa30d"
      },
      "source": [
        "set.seed(1)  # ignore\n",
        "\n",
        "# random sample\n",
        "math_sample <- sample(population$math.score, size = 50, replace = FALSE)\n",
        "\n",
        "# calculate sample mean\n",
        "xbar        <- mean(math_sample)\n",
        "xbar"
      ],
      "execution_count": null,
      "outputs": [
        {
          "output_type": "display_data",
          "data": {
            "text/html": [
              "67.14"
            ],
            "text/markdown": "67.14",
            "text/latex": "67.14",
            "text/plain": [
              "[1] 67.14"
            ]
          },
          "metadata": {}
        }
      ]
    },
    {
      "cell_type": "markdown",
      "metadata": {
        "id": "WDC8JNwawjkC"
      },
      "source": [
        "* Is this average $\\bar{X}$ close to the true population mean ($\\mu = 66.09$)?"
      ]
    },
    {
      "cell_type": "markdown",
      "metadata": {
        "id": "dtwJ1nxrUDk6"
      },
      "source": [
        "<br>"
      ]
    },
    {
      "cell_type": "markdown",
      "metadata": {
        "id": "m7MaGrPfwot1"
      },
      "source": [
        "* What we are observing is ***sampling variability***\n",
        "  * i.e. Estimates of the average (and other statistics) can change from sample to sample"
      ]
    },
    {
      "cell_type": "markdown",
      "metadata": {
        "id": "i4e7nNTJUD3T"
      },
      "source": [
        "<br>"
      ]
    },
    {
      "cell_type": "markdown",
      "metadata": {
        "id": "EUWhRc1dw3gR"
      },
      "source": [
        "* Let's try sampling 50 students over and over again to observe the distribution of the sample mean"
      ]
    },
    {
      "cell_type": "code",
      "metadata": {
        "id": "i2DEvsmhEfdy"
      },
      "source": [
        "set.seed(2)  # ignore\n",
        "\n",
        "# number of samples\n",
        "n_samp = 500\n",
        "\n",
        "# empty vector to store all the sample means\n",
        "sample_means <- vector(length = n_samp)\n",
        "\n",
        "# loop to calculate many sample means\n",
        "for (i in 1:n_samp) {\n",
        "\n",
        "  # bootstrap sample of size n\n",
        "  math_sample <- sample(population$math.score, size = n_samp, replace = FALSE)\n",
        "\n",
        "  # compute mean of single bootstrap sample\n",
        "  sample_mean <- mean(math_sample)\n",
        "\n",
        "  # store the bootstrap mean\n",
        "  sample_means[i] <- sample_mean\n",
        "\n",
        "}"
      ],
      "execution_count": null,
      "outputs": []
    },
    {
      "cell_type": "code",
      "metadata": {
        "id": "EVgiGx1XEfd0",
        "colab": {
          "base_uri": "https://localhost:8080/"
        },
        "outputId": "b2fc9e24-ee08-436e-f25f-c5e025d2683b"
      },
      "source": [
        "# our sample means\n",
        "print(head(sample_means, 100))"
      ],
      "execution_count": null,
      "outputs": [
        {
          "output_type": "stream",
          "name": "stdout",
          "text": [
            "  [1] 66.406 66.258 66.550 66.346 65.366 66.024 66.142 65.692 66.756 65.950\n",
            " [11] 66.116 66.586 66.054 65.736 66.942 66.234 65.818 66.216 66.188 66.148\n",
            " [21] 66.622 65.566 65.090 66.476 66.598 65.624 65.338 66.822 66.088 66.432\n",
            " [31] 66.346 65.808 65.314 65.870 66.022 65.986 65.764 65.956 66.344 64.700\n",
            " [41] 66.130 67.120 67.024 66.566 66.118 65.226 66.684 66.212 66.242 66.540\n",
            " [51] 66.256 65.834 66.068 65.550 66.236 66.430 66.678 65.908 66.092 66.656\n",
            " [61] 66.216 65.602 65.566 65.148 66.096 66.714 66.678 65.964 65.520 66.576\n",
            " [71] 65.968 65.590 66.402 65.732 65.980 65.232 65.534 66.266 66.068 66.458\n",
            " [81] 66.594 66.254 65.992 65.968 65.822 66.144 65.050 66.346 65.938 66.512\n",
            " [91] 66.522 66.696 66.146 66.356 66.360 65.712 66.144 65.728 66.110 66.030\n"
          ]
        }
      ]
    },
    {
      "cell_type": "markdown",
      "source": [
        "<br>"
      ],
      "metadata": {
        "id": "Ge80mhumFkPU"
      }
    },
    {
      "cell_type": "markdown",
      "source": [
        "* We can now plot the distribution of these samples means using a histogram"
      ],
      "metadata": {
        "id": "pM9zW6RIFlOm"
      }
    },
    {
      "cell_type": "code",
      "source": [
        "hist(sample_means, breaks = 30,\n",
        "     main = \"Histogram of Sample Means\",\n",
        "     xlab = \"Sample Means\")"
      ],
      "metadata": {
        "id": "tcYb3DyZFqnY",
        "colab": {
          "base_uri": "https://localhost:8080/"
        },
        "outputId": "4b9fe565-cdb7-476d-9857-fd46db60f54d"
      },
      "execution_count": null,
      "outputs": [
        {
          "output_type": "display_data",
          "data": {
            "text/plain": [
              "Plot with title “Histogram of Sample Means”"
            ],
            "image/png": "[encoded data removed]"
          },
          "metadata": {
            "image/png": {
              "width": 420,
              "height": 420
            }
          }
        }
      ]
    },
    {
      "cell_type": "markdown",
      "source": [
        "* The histogram above shows the distribution of possible sample means if we took many random samples\n",
        "\n",
        "* This is called the ***sampling distribution*** of our sample mean $\\bar{X}$\n",
        "\n",
        "* This illustrates that the sample mean varies from sample to sample\n",
        "  * In practice we only take one sample, so this is NOT observed"
      ],
      "metadata": {
        "id": "T0Lmw9ARHNrm"
      }
    },
    {
      "cell_type": "markdown",
      "source": [
        "<br>"
      ],
      "metadata": {
        "id": "5xbsO9NB46oR"
      }
    },
    {
      "cell_type": "markdown",
      "source": [
        "* The histogram suggests we are unable to simply say the mean of a single sample is the population mean since the sample mean can change from sample to sample"
      ],
      "metadata": {
        "id": "zT_LkZIu4m_a"
      }
    },
    {
      "cell_type": "markdown",
      "source": [
        "<br>"
      ],
      "metadata": {
        "id": "pbzeTY3k5DOB"
      }
    },
    {
      "cell_type": "markdown",
      "source": [
        "* What are our options then?\n",
        "\n",
        "  * Instead, we can incorporate our understanding of how the sample mean changes from sample to sample\n",
        "\n",
        "  * That is, we \"infer\" properties (i.e. mean) of the population based on our understanding of sampling variability\n",
        "\n",
        "  * This process is called \"statistical inference\""
      ],
      "metadata": {
        "id": "fJt1Cs2M5Dv1"
      }
    },
    {
      "cell_type": "markdown",
      "source": [
        "<br>"
      ],
      "metadata": {
        "id": "A0TRrHTwIKj_"
      }
    },
    {
      "cell_type": "markdown",
      "source": [
        "* Statistical inference is performed using\n",
        "\n",
        "  * Confidence intervals\n",
        "\n",
        "  * Hypothesis testing"
      ],
      "metadata": {
        "id": "4KLPSNsZ7TiF"
      }
    },
    {
      "cell_type": "markdown",
      "source": [
        "<br>"
      ],
      "metadata": {
        "id": "ZsUP9h6G-Z2w"
      }
    },
    {
      "cell_type": "markdown",
      "source": [
        "* For calculation, statistical inference is performed using\n",
        "\n",
        "  * Conventional (theory-based) approaches\n",
        "\n",
        "  * Simulation-based approaches"
      ],
      "metadata": {
        "id": "OYUKSeVb-a38"
      }
    },
    {
      "cell_type": "markdown",
      "source": [
        "<br>"
      ],
      "metadata": {
        "id": "YmNrqhc38GJz"
      }
    },
    {
      "cell_type": "markdown",
      "source": [
        "* You will have plenty of time to learn conventional statistical inference in your other classes\n",
        "\n",
        "* Today we will cover a simulation-based approach to creating confidence intervals"
      ],
      "metadata": {
        "id": "2vxh8MEW8G65"
      }
    },
    {
      "cell_type": "markdown",
      "metadata": {
        "id": "AxDyrkQBI0cQ"
      },
      "source": [
        "<br>\n",
        "\n",
        "<br>"
      ]
    },
    {
      "cell_type": "markdown",
      "metadata": {
        "id": "RqhAkp3XI0cQ"
      },
      "source": [
        "\n",
        "\n",
        "---\n",
        "\n",
        "\n"
      ]
    },
    {
      "cell_type": "markdown",
      "metadata": {
        "id": "BbVVzq7zI0cQ"
      },
      "source": [
        "### Confidence Intervals from the Sampling Distribution"
      ]
    },
    {
      "cell_type": "markdown",
      "source": [
        "* Below is the same histogram but with the true population mean and average of samples means on the same plot"
      ],
      "metadata": {
        "id": "rYBGC4QzIGzd"
      }
    },
    {
      "cell_type": "code",
      "source": [
        "# Histogram of sample means\n",
        "hist(sample_means, breaks = 30,\n",
        "     main = \"Histogram of Sample Means\",\n",
        "     xlab = \"Sample Means\")\n",
        "\n",
        "# ignore below (base R plotting)\n",
        "abline(v = mu, lty = 2, lwd = 2)\n",
        "abline(v = mean(sample_means), lty = 2, lwd = 2, col = \"red\")\n",
        "legend(\"topright\",\n",
        "       c(\"true population mean\", \"average of sample means\"),\n",
        "       lwd = 2, lty = 2, col = c(\"black\", \"red\"), bty = \"n\")"
      ],
      "metadata": {
        "id": "5RbRICvBIGze",
        "colab": {
          "base_uri": "https://localhost:8080/",
          "height": 437
        },
        "outputId": "53b8b894-081a-4c26-9111-9799ce79744b"
      },
      "execution_count": null,
      "outputs": [
        {
          "output_type": "display_data",
          "data": {
            "text/plain": [
              "Plot with title “Histogram of Sample Means”"
            ],
            "image/png": "[encoded data removed]"
          },
          "metadata": {
            "image/png": {
              "width": 420,
              "height": 420
            }
          }
        }
      ]
    },
    {
      "cell_type": "markdown",
      "source": [
        "* What do we notice?\n",
        "\n",
        "  * The average of all the samples means is approximately the true population mean!\n",
        "\n",
        "  * That is, the center of the sampling distribution of $\\bar{X}$ is approximately the true population mean $\\mu$"
      ],
      "metadata": {
        "id": "GmQt0id_IGzf"
      }
    },
    {
      "cell_type": "markdown",
      "source": [
        "<br>"
      ],
      "metadata": {
        "id": "DmQNXYWPJlcr"
      }
    },
    {
      "cell_type": "markdown",
      "source": [
        "* Why do we care?\n",
        "\n",
        "  * If we had the sampling distribution (typically do not have), we could compute a lower and upper bound that contains the center (true population mean $\\mu$) with a certain probability"
      ],
      "metadata": {
        "id": "-DBd80XDJmRP"
      }
    },
    {
      "cell_type": "markdown",
      "source": [
        "<br>"
      ],
      "metadata": {
        "id": "2cCvXIK8L8gP"
      }
    },
    {
      "cell_type": "markdown",
      "source": [
        "* For example,\n",
        "\n",
        "  * We could calculate the 2.5% (lower bound) and 97.5% (upper bound) percentiles\n",
        "\n",
        "  * These percentiles contain 95% of the distribution\n",
        "\n",
        "  * i.e. The true population mean is between the 2.5% and 97.5% percentiles with 95% probability\n",
        "\n"
      ],
      "metadata": {
        "id": "KvxnjpTVL-go"
      }
    },
    {
      "cell_type": "code",
      "source": [
        "# calculate 2.5% and 97.5% percentiles\n",
        "bounds <- quantile(sample_means, probs = c(0.025, 0.975))\n",
        "print(bounds)\n",
        "\n",
        "# save each interval boundary\n",
        "lower  <- bounds[1]\n",
        "upper  <- bounds[2]"
      ],
      "metadata": {
        "id": "1Cxmq4k0LAnO",
        "colab": {
          "base_uri": "https://localhost:8080/"
        },
        "outputId": "5ff9a2d0-7daa-4394-dea4-a894909297de"
      },
      "execution_count": null,
      "outputs": [
        {
          "output_type": "stream",
          "name": "stdout",
          "text": [
            "    2.5%    97.5% \n",
            "65.19695 66.99480 \n"
          ]
        }
      ]
    },
    {
      "cell_type": "markdown",
      "source": [
        "<br>"
      ],
      "metadata": {
        "id": "YFWMWqenMtV2"
      }
    },
    {
      "cell_type": "markdown",
      "source": [
        "* Visualize the interval on the histogram"
      ],
      "metadata": {
        "id": "TshdQNGrMuZY"
      }
    },
    {
      "cell_type": "code",
      "source": [
        "# Histogram of sample means\n",
        "hist(sample_means, breaks = 30,\n",
        "     main = \"Histogram of Sample Means\",\n",
        "     xlab = \"Sample Means\")\n",
        "\n",
        "# ignore below (base R plotting)\n",
        "abline(v = mu, lty = 2, lwd = 2)\n",
        "abline(v = mean(sample_means), lty = 2, lwd = 2, col = \"red\")\n",
        "abline(v = lower, lty = 2, lwd = 2, col = \"blue\")\n",
        "abline(v = upper, lty = 2, lwd = 2, col = \"blue\")\n",
        "legend(\"topright\",\n",
        "       c(\"true population mean\", \"average of sample means\",\n",
        "       c(\"95% confidence interval\")),\n",
        "       lwd = 2, lty = 2, col = c(\"black\", \"red\", \"blue\"), bty = \"n\")"
      ],
      "metadata": {
        "id": "eE_gXKjOK6y5",
        "colab": {
          "base_uri": "https://localhost:8080/",
          "height": 437
        },
        "outputId": "58c35d4b-a823-4ba7-92d3-e9d574f5a9c9"
      },
      "execution_count": null,
      "outputs": [
        {
          "output_type": "display_data",
          "data": {
            "text/plain": [
              "Plot with title “Histogram of Sample Means”"
            ],
            "image/png": "[encoded data removed]"
          },
          "metadata": {
            "image/png": {
              "width": 420,
              "height": 420
            }
          }
        }
      ]
    },
    {
      "cell_type": "markdown",
      "source": [
        "* This is known as a confidence interval\n",
        "\n",
        "* The interpretation is\n",
        "\n",
        "  * We are 95% confident that the true population mean math score is in the interval [65.2, 67.0]"
      ],
      "metadata": {
        "id": "m4MT1TA4MyZ_"
      }
    },
    {
      "cell_type": "markdown",
      "metadata": {
        "id": "5ZkKThQtw3gQ"
      },
      "source": [
        "<br>\n",
        "\n",
        "<br>"
      ]
    },
    {
      "cell_type": "markdown",
      "metadata": {
        "id": "hu5zk4nl8Zbw"
      },
      "source": [
        "\n",
        "\n",
        "---\n",
        "\n",
        "\n"
      ]
    },
    {
      "cell_type": "markdown",
      "metadata": {
        "id": "ED0qvTYY8Zbw"
      },
      "source": [
        "### Bootstrapping for Confidence Interval Estimation"
      ]
    },
    {
      "cell_type": "markdown",
      "source": [
        "* Remember, we don't have the true sampling distribution of the sample mean\n",
        "\n",
        "* However, we can simulate a sampling distribution using a process called\n",
        " ***bootstrapping***\n",
        "\n",
        "* In bootstrapping, we \"pretend\" our sample is our population\n",
        "\n",
        "* We can repeatedly sample from our sample ***with replacement*** to gain an understanding of our sampling distribution"
      ],
      "metadata": {
        "id": "8_4K8RZZ9SCe"
      }
    },
    {
      "cell_type": "markdown",
      "source": [
        "<br>"
      ],
      "metadata": {
        "id": "IGCBAGNqIFVl"
      }
    },
    {
      "cell_type": "markdown",
      "source": [
        "* The bootstrapping procedure for confidence intervals is performed as follows\n",
        "\n",
        "  1. Let `n` be the size of our sample. We first randomly sample `n` observations ***with replacement*** from our sample data. This is called a bootstrapped sample\n",
        "\n",
        "  2. Compute the statistics in which we are interested (e.g., mean) on this bootstrapped sample and save\n",
        "\n",
        "  3. Repeat steps 1 and 2 many times (e.g., `B > 500`). For example, if `B = 1000` This will produce `B = 1000` mean estimates\n",
        "\n",
        "  3. Compute lower (e.g., 2.5%) and upper (97.5%) percentiles of your `B = 1000` means, which define our (95%) confidence interval"
      ],
      "metadata": {
        "id": "tWywSIsLIF4k"
      }
    },
    {
      "cell_type": "markdown",
      "source": [
        "<br>"
      ],
      "metadata": {
        "id": "KN43R0VQAFAI"
      }
    },
    {
      "cell_type": "markdown",
      "metadata": {
        "id": "e8jigOM6Jij2"
      },
      "source": [
        "#### Bootstrapping Procedure"
      ]
    },
    {
      "cell_type": "markdown",
      "source": [
        "* Let's do an example with the dataset of math scores\n",
        "\n",
        "* Remember that we are considering the entire math score dataset as the population\n",
        "\n",
        "* In practice, this is typically not possible, so let's take a random sample of size `n = 50` from the population"
      ],
      "metadata": {
        "id": "v5e-VIquAFo8"
      }
    },
    {
      "cell_type": "code",
      "metadata": {
        "id": "RQa4FBi8xMsM",
        "colab": {
          "base_uri": "https://localhost:8080/"
        },
        "outputId": "4e365919-5443-4534-817c-ffd80903bce2"
      },
      "source": [
        "set.seed(2)  # ignore\n",
        "\n",
        "# random sample of size 50\n",
        "data <- sample(population$math.score, size = 50, replace = FALSE)\n",
        "print(data)"
      ],
      "execution_count": null,
      "outputs": [
        {
          "output_type": "stream",
          "name": "stdout",
          "text": [
            " [1]  87  54  42  62  84  77  47  75  60  57  80  46  93  55  56  72  94  77  76\n",
            "[20]  61  84  49  74  64  76  88  48  82 100  59  62  79  53  62  70  57  50  64\n",
            "[39]  91  65  71  64  59  37  65  50  73  87  51  93\n"
          ]
        }
      ]
    },
    {
      "cell_type": "code",
      "source": [
        "# store our sample size\n",
        "n <- length(data)\n",
        "n"
      ],
      "metadata": {
        "id": "097AY4SOBB4S",
        "colab": {
          "base_uri": "https://localhost:8080/"
        },
        "outputId": "32df970e-491c-47dc-bc91-bd65d309c8b4"
      },
      "execution_count": null,
      "outputs": [
        {
          "output_type": "display_data",
          "data": {
            "text/html": [
              "50"
            ],
            "text/markdown": "50",
            "text/latex": "50",
            "text/plain": [
              "[1] 50"
            ]
          },
          "metadata": {}
        }
      ]
    },
    {
      "cell_type": "markdown",
      "source": [
        "<br>\n",
        "\n",
        "<br>"
      ],
      "metadata": {
        "id": "ZSJP4pAaAr3M"
      }
    },
    {
      "cell_type": "markdown",
      "source": [
        "* **Step 1:** Randomly sample `n` observations with replacement from our sample\n",
        "\n",
        "  * Since we are sampling WITH replacement, note that some individuals in our bootstrapped sample may appear more than once or not at all!"
      ],
      "metadata": {
        "id": "pNL3_vjCAsmF"
      }
    },
    {
      "cell_type": "code",
      "metadata": {
        "id": "cgkJMQ5bxbzV",
        "colab": {
          "base_uri": "https://localhost:8080/"
        },
        "outputId": "8363e12a-af8c-476c-d20c-31805533b0f0"
      },
      "source": [
        "# bootstrap sample of size n\n",
        "boot_samp <- sample(data, size = 50, replace = TRUE)\n",
        "boot_samp"
      ],
      "execution_count": null,
      "outputs": [
        {
          "output_type": "display_data",
          "data": {
            "text/html": [
              "<style>\n",
              ".list-inline {list-style: none; margin:0; padding: 0}\n",
              ".list-inline>li {display: inline-block}\n",
              ".list-inline>li:not(:last-child)::after {content: \"\\00b7\"; padding: 0 .5ex}\n",
              "</style>\n",
              "<ol class=list-inline><li>77</li><li>42</li><li>42</li><li>87</li><li>74</li><li>87</li><li>71</li><li>65</li><li>56</li><li>53</li><li>77</li><li>75</li><li>57</li><li>65</li><li>59</li><li>50</li><li>62</li><li>84</li><li>93</li><li>47</li><li>93</li><li>64</li><li>37</li><li>61</li><li>82</li><li>62</li><li>60</li><li>64</li><li>73</li><li>93</li><li>77</li><li>79</li><li>56</li><li>93</li><li>70</li><li>75</li><li>79</li><li>93</li><li>94</li><li>84</li><li>64</li><li>51</li><li>60</li><li>56</li><li>57</li><li>94</li><li>51</li><li>72</li><li>84</li><li>80</li></ol>\n"
            ],
            "text/markdown": "1. 77\n2. 42\n3. 42\n4. 87\n5. 74\n6. 87\n7. 71\n8. 65\n9. 56\n10. 53\n11. 77\n12. 75\n13. 57\n14. 65\n15. 59\n16. 50\n17. 62\n18. 84\n19. 93\n20. 47\n21. 93\n22. 64\n23. 37\n24. 61\n25. 82\n26. 62\n27. 60\n28. 64\n29. 73\n30. 93\n31. 77\n32. 79\n33. 56\n34. 93\n35. 70\n36. 75\n37. 79\n38. 93\n39. 94\n40. 84\n41. 64\n42. 51\n43. 60\n44. 56\n45. 57\n46. 94\n47. 51\n48. 72\n49. 84\n50. 80\n\n\n",
            "text/latex": "\\begin{enumerate*}\n\\item 77\n\\item 42\n\\item 42\n\\item 87\n\\item 74\n\\item 87\n\\item 71\n\\item 65\n\\item 56\n\\item 53\n\\item 77\n\\item 75\n\\item 57\n\\item 65\n\\item 59\n\\item 50\n\\item 62\n\\item 84\n\\item 93\n\\item 47\n\\item 93\n\\item 64\n\\item 37\n\\item 61\n\\item 82\n\\item 62\n\\item 60\n\\item 64\n\\item 73\n\\item 93\n\\item 77\n\\item 79\n\\item 56\n\\item 93\n\\item 70\n\\item 75\n\\item 79\n\\item 93\n\\item 94\n\\item 84\n\\item 64\n\\item 51\n\\item 60\n\\item 56\n\\item 57\n\\item 94\n\\item 51\n\\item 72\n\\item 84\n\\item 80\n\\end{enumerate*}\n",
            "text/plain": [
              " [1] 77 42 42 87 74 87 71 65 56 53 77 75 57 65 59 50 62 84 93 47 93 64 37 61 82\n",
              "[26] 62 60 64 73 93 77 79 56 93 70 75 79 93 94 84 64 51 60 56 57 94 51 72 84 80"
            ]
          },
          "metadata": {}
        }
      ]
    },
    {
      "cell_type": "markdown",
      "source": [
        "<br>"
      ],
      "metadata": {
        "id": "ZqYFfLwdBlge"
      }
    },
    {
      "cell_type": "markdown",
      "source": [
        "* **Step 2:** Compute the statistics in which we are interested\n",
        "\n",
        "  * We'll compute the mean"
      ],
      "metadata": {
        "id": "ocbTLNvfBlgf"
      }
    },
    {
      "cell_type": "code",
      "metadata": {
        "id": "eYgaCE4tBlgg",
        "colab": {
          "base_uri": "https://localhost:8080/",
          "height": 34
        },
        "outputId": "aa4a7947-6cbe-4654-ec40-c707de8b5016"
      },
      "source": [
        "# compute mean of random sample\n",
        "boot_mean <- mean(boot_samp)\n",
        "boot_mean"
      ],
      "execution_count": null,
      "outputs": [
        {
          "output_type": "display_data",
          "data": {
            "text/html": [
              "69.62"
            ],
            "text/markdown": "69.62",
            "text/latex": "69.62",
            "text/plain": [
              "[1] 69.62"
            ]
          },
          "metadata": {}
        }
      ]
    },
    {
      "cell_type": "markdown",
      "source": [
        "<br>"
      ],
      "metadata": {
        "id": "Gmp5tsoyC-4G"
      }
    },
    {
      "cell_type": "markdown",
      "source": [
        "* **Step 3:** Repeat steps 1 and 2 many times (e.g., `B > 500`).\n",
        "\n",
        "  * Let's use `B = 1000` bootstrap samples.\n",
        "  * We can calculate the 1000 bootstrap sample means using a `for` loop"
      ],
      "metadata": {
        "id": "sQNVpeUJC-4H"
      }
    },
    {
      "cell_type": "code",
      "metadata": {
        "id": "Mc4pnOs3C-4H"
      },
      "source": [
        "# number of bootstrap samples\n",
        "B <- 1000\n",
        "\n",
        "# sample size\n",
        "n <- length(data)\n",
        "\n",
        "# compute B bootstrap means\n",
        "boot_means <- vector(length = B)\n",
        "\n",
        "# loop to calculate many bootstrap means\n",
        "for (i in 1:B) {\n",
        "\n",
        "  # bootstrap sample of size n\n",
        "  boot_samp <- sample(data, size = n, replace = TRUE)\n",
        "\n",
        "  # compute mean of single bootstrap sample\n",
        "  boot_mean <- mean(boot_samp)\n",
        "\n",
        "  # store the bootstrap mean\n",
        "  boot_means[i] <- boot_mean\n",
        "\n",
        "}"
      ],
      "execution_count": null,
      "outputs": []
    },
    {
      "cell_type": "markdown",
      "source": [
        "<br>"
      ],
      "metadata": {
        "id": "Df82_AI1IqHG"
      }
    },
    {
      "cell_type": "markdown",
      "source": [
        "* Plotting a histogram of the bootstrap means, we observe an estimate of the sampling distribution of the sample mean"
      ],
      "metadata": {
        "id": "Rjs0DrOcIq1k"
      }
    },
    {
      "cell_type": "code",
      "source": [
        "hist(boot_means, breaks = 30,\n",
        "     main = \"Histogram of Bootstrapped Means\",\n",
        "     xlab = \"Bootstrapped Means\")"
      ],
      "metadata": {
        "id": "VzHQrT7KIy1g",
        "colab": {
          "base_uri": "https://localhost:8080/",
          "height": 437
        },
        "outputId": "c749d7f1-a417-47e5-a953-9d85916265f3"
      },
      "execution_count": null,
      "outputs": [
        {
          "output_type": "display_data",
          "data": {
            "text/plain": [
              "Plot with title “Histogram of Bootstrapped Means”"
            ],
            "image/png": "[encoded data removed]"
          },
          "metadata": {
            "image/png": {
              "width": 420,
              "height": 420
            }
          }
        }
      ]
    },
    {
      "cell_type": "markdown",
      "source": [
        "<br>"
      ],
      "metadata": {
        "id": "qrSYSxf7JDwf"
      }
    },
    {
      "cell_type": "markdown",
      "metadata": {
        "id": "pUoGkUBGJmfM"
      },
      "source": [
        "#### Bootstrap Confidence Interval"
      ]
    },
    {
      "cell_type": "markdown",
      "source": [
        "* Using this distribution, we can now compute percentiles\n",
        "\n",
        "* We compute the 2.5% (`0.025`) and 97.5% (`0.975`) percentiles\n",
        "\n",
        "* This forms a 95% confidence interval (97.5% - 2.5% = 95%)"
      ],
      "metadata": {
        "id": "_pF1TnWZJE_Z"
      }
    },
    {
      "cell_type": "code",
      "source": [
        "# compute 95% confidence interval\n",
        "print(quantile(boot_means, probs = c(0.025, 0.975)))"
      ],
      "metadata": {
        "id": "ZSKCaSQkD6v-",
        "colab": {
          "base_uri": "https://localhost:8080/"
        },
        "outputId": "9492b3d0-8234-4174-ae8c-997e2ee0ceb7"
      },
      "execution_count": null,
      "outputs": [
        {
          "output_type": "stream",
          "name": "stdout",
          "text": [
            " 2.5% 97.5% \n",
            "63.26 72.04 \n"
          ]
        }
      ]
    },
    {
      "cell_type": "markdown",
      "source": [
        "<br>"
      ],
      "metadata": {
        "id": "mN7Uip06JuI9"
      }
    },
    {
      "cell_type": "markdown",
      "source": [
        "* We interpret the 95% bootstrap confidence interval as follows\n",
        "\n",
        "  * We are 95% confident that the true population mean math score is within the interval [63.26, 72.04]\n",
        "\n",
        "  * In other words, there is a high probability that the true population mean math score is between 63.26 and 72.04"
      ],
      "metadata": {
        "id": "iidoIQlzJvWC"
      }
    },
    {
      "cell_type": "markdown",
      "source": [
        "<br>"
      ],
      "metadata": {
        "id": "h7AKCdnxLF03"
      }
    },
    {
      "cell_type": "markdown",
      "source": [
        "* If this mean math score is acceptable for the proposed standardized math test, we can move forward with its implementation on a larger scale"
      ],
      "metadata": {
        "id": "q78-43NwK80m"
      }
    },
    {
      "cell_type": "markdown",
      "metadata": {
        "id": "I4NR8aDWOD4l"
      },
      "source": [
        "<br>\n",
        "\n",
        "<br>"
      ]
    },
    {
      "cell_type": "markdown",
      "metadata": {
        "id": "JQ_LxZilOD4l"
      },
      "source": [
        "\n",
        "\n",
        "---\n",
        "\n",
        "\n"
      ]
    },
    {
      "cell_type": "markdown",
      "metadata": {
        "id": "FMnNhmg2OD4l"
      },
      "source": [
        "### Statistical Inference using a Confidence Interval"
      ]
    },
    {
      "cell_type": "markdown",
      "source": [
        "* The purpose of a confidence interval is to provide a set of bounds that contain the true population average with a level of confidence (95%)\n",
        "\n",
        "* In practice, we can use confidence intervals to perform statistical testing\n",
        "\n",
        "  * That is, we can use a confidence interval to determine if the true population mean is greater than or less than (or different than) a certain value with some probability\n",
        "\n",
        "\n",
        "\n"
      ],
      "metadata": {
        "id": "iNvm6zDhOHEv"
      }
    },
    {
      "cell_type": "markdown",
      "source": [
        "<br>"
      ],
      "metadata": {
        "id": "QPEVbVBmPO5M"
      }
    },
    {
      "cell_type": "markdown",
      "source": [
        "* From the interval below, we know that the true population average math score is contained in the interval with 95% probability\n",
        "\n",
        "* Since we are highly confident (95%) that the true mean is inside the interval,\n",
        "  * we say the true mean is ***significantly*** different from values ***outside*** interval\n",
        "  * we say the true mean is ***not significantly*** different from values ***inside*** interval"
      ],
      "metadata": {
        "id": "ROIgQbosQVk0"
      }
    },
    {
      "cell_type": "code",
      "source": [
        "# compute 95% confidence interval\n",
        "print(quantile(boot_means, probs = c(0.025, 0.975)))"
      ],
      "metadata": {
        "colab": {
          "base_uri": "https://localhost:8080/"
        },
        "id": "53eEdOlHPPrs",
        "outputId": "6e2ccccf-b527-480d-bc01-d6c5cb44f5a8"
      },
      "execution_count": null,
      "outputs": [
        {
          "output_type": "stream",
          "name": "stdout",
          "text": [
            " 2.5% 97.5% \n",
            "63.26 72.04 \n"
          ]
        }
      ]
    },
    {
      "cell_type": "markdown",
      "source": [
        "![image.png](data:image/png;base64,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)"
      ],
      "metadata": {
        "id": "VNFhRiahT7g3"
      }
    },
    {
      "cell_type": "markdown",
      "source": [
        "<br>"
      ],
      "metadata": {
        "id": "xBxA2OaKRoDD"
      }
    },
    {
      "cell_type": "markdown",
      "source": [
        "* From the prior scenario, what if we require the math test to have an average greater than 60 points?\n",
        "\n",
        "* Since the score of 60 is below the lower bound of the interval, we say\n",
        "  * \"Based on the 95% confidence interval, the true population average math score is ***significantly*** greater than 60 points\"\n",
        "    OR\n",
        "  * \"Based on the 95% confidence interval, the true population average math score is ***significantly*** different than 60 points\""
      ],
      "metadata": {
        "id": "kG0y0JJ7PT0M"
      }
    },
    {
      "cell_type": "markdown",
      "source": [
        "<br>"
      ],
      "metadata": {
        "id": "XYv4te6HV8GO"
      }
    },
    {
      "cell_type": "markdown",
      "source": [
        "* This concept leads us into hypothesis testing, which we will cover next lecture!"
      ],
      "metadata": {
        "id": "AK6GbOHPUb0v"
      }
    },
    {
      "cell_type": "markdown",
      "source": [
        "<br>"
      ],
      "metadata": {
        "id": "UnQawuWgVkZe"
      }
    },
    {
      "cell_type": "markdown",
      "source": [
        "More examples interpretations:\n",
        "\n",
        "* \"The true population average math score is ***significantly*** less than 73 points\"\n",
        "\n",
        "* \"The true population average math score is NOT ***significantly*** different than 72 points\"\n",
        "\n",
        "* \"The true population average math score is NOT ***significantly*** different than 65 points\""
      ],
      "metadata": {
        "id": "RV2o4niORtU-"
      }
    },
    {
      "cell_type": "code",
      "source": [
        "# compute 95% confidence interval\n",
        "print(quantile(boot_means, probs = c(0.025, 0.975)))"
      ],
      "metadata": {
        "colab": {
          "base_uri": "https://localhost:8080/"
        },
        "id": "VUxFrcjdRpdD",
        "outputId": "d4545ef8-5429-472b-dcfd-dc6863aa038a"
      },
      "execution_count": null,
      "outputs": [
        {
          "output_type": "stream",
          "name": "stdout",
          "text": [
            " 2.5% 97.5% \n",
            "63.26 72.04 \n"
          ]
        }
      ]
    },
    {
      "cell_type": "markdown",
      "source": [
        "<br>\n",
        "\n",
        "<br>"
      ],
      "metadata": {
        "id": "N3IDKiX4VsUs"
      }
    }
  ]
}